{
 "cells": [
  {
   "cell_type": "markdown",
   "metadata": {},
   "source": [
    "# (문제1) <span style=\"color:red\">★</span> 2016년\n",
    "2016년 1월 1일은 금요일입니다. 2016년 A월 B일은 무슨 요일일까요? 두 수 A,B를 입력받아 A월 B일이 무슨 요일인지 출력하는 getDayName 함수를 완성하세요. 요일의 이름은 일요일부터 토요일까지 각각\n",
    "\n",
    "SUN,MON,TUE,WED,THU,FRI,SAT\n",
    "\n",
    "를 출력해주면 됩니다. 예를 들어 A=5, B=24가 입력된다면 5월 24일은 화요일이므로 TUE를 반환하면 됩니다.\n",
    "<br>\n",
    "[2016년](https://programmers.co.kr/learn/challenge_codes/177)"
   ]
  },
  {
   "cell_type": "markdown",
   "metadata": {},
   "source": [
    "1. 요일은 7로 반복\n",
    "> sun에는 3, 3+7, 3+7+7, 3+7+7+7 이 들어간다. <br>\n",
    "> mon에는 4, 4+7, 4+7+7, 4+7+7+7 순으로 들어간다. <br>\n",
    "\n",
    "2. 형식 발견하기, 우선 월 단위로?\n",
    "> startnum, startnum + 7, startnum + 7 + 7"
   ]
  },
  {
   "cell_type": "markdown",
   "metadata": {},
   "source": [
    "sun&emsp;mon&emsp;tue&emsp;wed&emsp;thu&emsp;fri&emsp;sat <br>\n",
    "&emsp;&emsp;&emsp;&emsp;&emsp;&emsp;&emsp;&emsp;&emsp;&emsp;&emsp;&emsp;&emsp;&emsp;1&emsp;2 <br>\n",
    "&emsp;3&emsp;&emsp;4&emsp;&emsp;5&emsp;&emsp;6&emsp;&emsp;7&emsp;&emsp;8&emsp;&emsp;9 <br>\n",
    "&emsp;10&emsp;11&emsp;&emsp;12&emsp;13&emsp;&emsp;14&emsp;15&emsp;16 <br>\n",
    "17   18  19  20  21  22  23 <br>\n",
    "24   25  26  27  28  29  30 <br>\n",
    "31"
   ]
  },
  {
   "cell_type": "markdown",
   "metadata": {},
   "source": [
    "https://www.quora.com/How-do-I-assign-multiple-values-to-a-same-variable-in-Python\n",
    "<br>\n"
   ]
  },
  {
   "cell_type": "code",
   "execution_count": 1,
   "metadata": {
    "collapsed": true
   },
   "outputs": [],
   "source": [
    "# 2016년 1월 1일 금요일\n",
    "# 일부터 계산\n",
    "day = ['SUN', 'MON', 'TUE', 'WED', 'THU', 'FRI', 'SAT']"
   ]
  },
  {
   "cell_type": "code",
   "execution_count": 44,
   "metadata": {
    "collapsed": true
   },
   "outputs": [],
   "source": [
    "startNum = 1\n",
    "# startNum = 2\n",
    "# startNum = 3\n",
    "# startNum = 4\n",
    "# startNum = 5\n",
    "# startNum = 6\n",
    "# startNum = 7\n",
    "# startNum = 8\n",
    "# startNum = 9"
   ]
  },
  {
   "cell_type": "code",
   "execution_count": 45,
   "metadata": {},
   "outputs": [
    {
     "name": "stdout",
     "output_type": "stream",
     "text": [
      "FRI\n"
     ]
    }
   ],
   "source": [
    "if startNum == 1:\n",
    "    day = 'FRI'\n",
    "elif startNum == 2:\n",
    "    day = 'SAT'\n",
    "elif startNum == 3:\n",
    "    day = 'SUN'\n",
    "elif startNum == 4:\n",
    "    day = 'MON'\n",
    "elif startNum == 5:\n",
    "    day = 'THU'\n",
    "elif startNum == 6:\n",
    "    day = 'WED'\n",
    "elif startNum == 7:\n",
    "    day = 'THU'\n",
    "else:\n",
    "    day = 'please put the right number'\n",
    "print(day)"
   ]
  },
  {
   "cell_type": "markdown",
   "metadata": {},
   "source": [
    "startNum + 7에 따라서 같은 value를 넣고 싶으면??"
   ]
  },
  {
   "cell_type": "code",
   "execution_count": 57,
   "metadata": {
    "collapsed": true
   },
   "outputs": [],
   "source": [
    "# inputNum = 1\n",
    "# inputNum = 2\n",
    "# inputNum = 3\n",
    "# inputNum = 4\n",
    "# inputNum = 5\n",
    "# inputNum = 6\n",
    "# inputNum = 7\n",
    "inputNum = 8\n",
    "# inputNum = 9\n",
    "# inputNum = 10\n",
    "inputNum = 31"
   ]
  },
  {
   "cell_type": "code",
   "execution_count": 56,
   "metadata": {},
   "outputs": [
    {
     "name": "stdout",
     "output_type": "stream",
     "text": [
      "FRI\n"
     ]
    }
   ],
   "source": [
    "if inputNum%7 == 1:\n",
    "    day = 'FRI'\n",
    "elif inputNum%7 == 2:\n",
    "    day = 'SAT'\n",
    "elif inputNum == 3:\n",
    "    day = 'SUN'\n",
    "elif inputNum == 4:\n",
    "    day = 'MON'\n",
    "elif inputNum == 5:\n",
    "    day = 'TUE'\n",
    "elif inputNum == 6:\n",
    "    day = 'WED'\n",
    "elif inputNum == 7:\n",
    "    day = 'THU'\n",
    "else:\n",
    "    day = 'please put the right number'\n",
    "print(day)"
   ]
  },
  {
   "cell_type": "code",
   "execution_count": 89,
   "metadata": {},
   "outputs": [],
   "source": [
    "def getDayName2(b):\n",
    "    if b < 32:\n",
    "        if b%7 == 1:\n",
    "            day = 'FRI'\n",
    "        elif b%7 == 2:\n",
    "            day = 'SAT'\n",
    "        elif b%7 == 3:\n",
    "            day = 'SUN'\n",
    "        elif b%7 == 4:\n",
    "            day = 'MON'\n",
    "        elif b%7 == 5:\n",
    "            day = 'TUE'\n",
    "        elif b%7 == 6:\n",
    "            day = 'WED'\n",
    "        elif b%7 == 7:\n",
    "            day = 'THU'\n",
    "    else:\n",
    "        day = \"해당 월에는 없는 날짜입니다.\"\n",
    "    return day"
   ]
  },
  {
   "cell_type": "code",
   "execution_count": 90,
   "metadata": {},
   "outputs": [
    {
     "name": "stdout",
     "output_type": "stream",
     "text": [
      "해당 월에는 없는 날짜입니다.\n"
     ]
    }
   ],
   "source": [
    "print(getDayName2(32))"
   ]
  },
  {
   "cell_type": "markdown",
   "metadata": {},
   "source": [
    "inputNum 을 startNum + 7 \\* 1, startNum +7 \\* 2, startNum + 7 \\* 3 이런식으로 나타내고 싶으면? <br>\n",
    "1 = 0 \\* 7 + 1 <br>\n",
    "2 = 0 \\* 7 + 2 <br>\n",
    "3 = 0 \\* 7 + 3 <br>\n",
    "4 = 0 \\* 7 + 4 <br>\n",
    "5 = 0 \\* 7 + 5 <br>\n",
    "6 = 0 \\* 7 + 6 <br>\n",
    "7 = 1 \\* 7 + 0 <br>\n",
    "8 = 1 \\* 7 + 1 <br>\n",
    "9 = 1 \\* 7 + 2 <br>\n",
    "10 = 1 \\* 7 + 3 <br>\n",
    "11 = 1 \\* 7 + 4 <br>\n",
    "12 = 1 \\* 7 + 5 <br>\n",
    "13 = 1 \\* 7 +  6<br>\n",
    "14 = 2 \\* 7 <br>\n",
    "....."
   ]
  },
  {
   "cell_type": "code",
   "execution_count": 54,
   "metadata": {
    "collapsed": true
   },
   "outputs": [],
   "source": [
    "x = 2"
   ]
  },
  {
   "cell_type": "code",
   "execution_count": 28,
   "metadata": {},
   "outputs": [
    {
     "data": {
      "text/plain": [
       "'SAT'"
      ]
     },
     "execution_count": 28,
     "metadata": {},
     "output_type": "execute_result"
    }
   ],
   "source": [
    "x = 1\n",
    "# x = 2\n",
    "day = ['FRI', 'SAT', 'SUN', 'MON', 'TUE', 'WED', 'THU']\n",
    "day[x%7]\n",
    "# x에 1일이 들어가면 되는데.. "
   ]
  },
  {
   "cell_type": "markdown",
   "metadata": {},
   "source": [
    "### 다른사람의 문제풀이 보고 학습하기"
   ]
  },
  {
   "cell_type": "code",
   "execution_count": 91,
   "metadata": {},
   "outputs": [
    {
     "name": "stdout",
     "output_type": "stream",
     "text": [
      "TUE\n"
     ]
    }
   ],
   "source": [
    "import datetime\n",
    "def getDayName3(a, b):\n",
    "    z = (datetime.date(2016,a, b) - datetime.date(2016,1,1)).days\n",
    "    a = ['FRI', 'SAT', 'SUN', 'MON', 'TUE', 'WED', 'THU']\n",
    "    return a[(z%7)]\n",
    "print(getDayName3(5, 24))"
   ]
  },
  {
   "cell_type": "code",
   "execution_count": null,
   "metadata": {
    "collapsed": true
   },
   "outputs": [],
   "source": []
  }
 ],
 "metadata": {
  "kernelspec": {
   "display_name": "Python 3",
   "language": "python",
   "name": "python3"
  },
  "language_info": {
   "codemirror_mode": {
    "name": "ipython",
    "version": 3
   },
   "file_extension": ".py",
   "mimetype": "text/x-python",
   "name": "python",
   "nbconvert_exporter": "python",
   "pygments_lexer": "ipython3",
   "version": "3.6.1"
  }
 },
 "nbformat": 4,
 "nbformat_minor": 2
}
