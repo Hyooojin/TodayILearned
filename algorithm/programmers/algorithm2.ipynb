{
 "cells": [
  {
   "cell_type": "markdown",
   "metadata": {},
   "source": [
    "# (문제1) <span style=\"color:red\">★</span> 2016년\n",
    "2016년 1월 1일은 금요일입니다. 2016년 A월 B일은 무슨 요일일까요? 두 수 A,B를 입력받아 A월 B일이 무슨 요일인지 출력하는 getDayName 함수를 완성하세요. 요일의 이름은 일요일부터 토요일까지 각각\n",
    "\n",
    "SUN,MON,TUE,WED,THU,FRI,SAT\n",
    "\n",
    "를 출력해주면 됩니다. 예를 들어 A=5, B=24가 입력된다면 5월 24일은 화요일이므로 TUE를 반환하면 됩니다.\n",
    "<br>\n",
    "[2016년](https://programmers.co.kr/learn/challenge_codes/177)"
   ]
  },
  {
   "cell_type": "markdown",
   "metadata": {},
   "source": [
    "1. 요일은 7로 반복\n",
    "> sun에는 3, 3+7, 3+7+7, 3+7+7+7 이 들어간다. <br>\n",
    "> mon에는 4, 4+7, 4+7+7, 4+7+7+7 순으로 들어간다. <br>\n",
    "\n",
    "2. 형식 발견하기, 우선 월 단위로?\n",
    "> startnum, startnum + 7, startnum + 7 + 7"
   ]
  },
  {
   "cell_type": "markdown",
   "metadata": {},
   "source": [
    "sun&emsp;mon&emsp;tue&emsp;wed&emsp;thu&emsp;fri&emsp;sat <br>\n",
    "&emsp;&emsp;&emsp;&emsp;&emsp;&emsp;&emsp;&emsp;&emsp;&emsp;&emsp;&emsp;&emsp;&emsp;1&emsp;2 <br>\n",
    "&emsp;3&emsp;&emsp;4&emsp;&emsp;5&emsp;&emsp;6&emsp;&emsp;7&emsp;&emsp;8&emsp;&emsp;9 <br>\n",
    "&emsp;10&emsp;11&emsp;&emsp;12&emsp;13&emsp;&emsp;14&emsp;15&emsp;16 <br>\n",
    "17   18  19  20  21  22  23 <br>\n",
    "24   25  26  27  28  29  30 <br>\n",
    "31"
   ]
  },
  {
   "cell_type": "markdown",
   "metadata": {},
   "source": [
    "https://www.quora.com/How-do-I-assign-multiple-values-to-a-same-variable-in-Python\n",
    "<br>\n"
   ]
  },
  {
   "cell_type": "code",
   "execution_count": 1,
   "metadata": {
    "collapsed": true
   },
   "outputs": [],
   "source": [
    "# 2016년 1월 1일 금요일\n",
    "# 일부터 계산\n",
    "day = ['SUN', 'MON', 'TUE', 'WED', 'THU', 'FRI', 'SAT']"
   ]
  },
  {
   "cell_type": "code",
   "execution_count": 44,
   "metadata": {
    "collapsed": true
   },
   "outputs": [],
   "source": [
    "startNum = 1\n",
    "# startNum = 2\n",
    "# startNum = 3\n",
    "# startNum = 4\n",
    "# startNum = 5\n",
    "# startNum = 6\n",
    "# startNum = 7\n",
    "# startNum = 8\n",
    "# startNum = 9"
   ]
  },
  {
   "cell_type": "code",
   "execution_count": 45,
   "metadata": {},
   "outputs": [
    {
     "name": "stdout",
     "output_type": "stream",
     "text": [
      "FRI\n"
     ]
    }
   ],
   "source": [
    "if startNum == 1:\n",
    "    day = 'FRI'\n",
    "elif startNum == 2:\n",
    "    day = 'SAT'\n",
    "elif startNum == 3:\n",
    "    day = 'SUN'\n",
    "elif startNum == 4:\n",
    "    day = 'MON'\n",
    "elif startNum == 5:\n",
    "    day = 'THU'\n",
    "elif startNum == 6:\n",
    "    day = 'WED'\n",
    "elif startNum == 7:\n",
    "    day = 'THU'\n",
    "else:\n",
    "    day = 'please put the right number'\n",
    "print(day)"
   ]
  },
  {
   "cell_type": "markdown",
   "metadata": {},
   "source": [
    "startNum + 7에 따라서 같은 value를 넣고 싶으면??"
   ]
  },
  {
   "cell_type": "code",
   "execution_count": 57,
   "metadata": {
    "collapsed": true
   },
   "outputs": [],
   "source": [
    "# inputNum = 1\n",
    "# inputNum = 2\n",
    "# inputNum = 3\n",
    "# inputNum = 4\n",
    "# inputNum = 5\n",
    "# inputNum = 6\n",
    "# inputNum = 7\n",
    "inputNum = 8\n",
    "# inputNum = 9\n",
    "# inputNum = 10\n",
    "inputNum = 31"
   ]
  },
  {
   "cell_type": "code",
   "execution_count": 56,
   "metadata": {},
   "outputs": [
    {
     "name": "stdout",
     "output_type": "stream",
     "text": [
      "FRI\n"
     ]
    }
   ],
   "source": [
    "if inputNum%7 == 1:\n",
    "    day = 'FRI'\n",
    "elif inputNum%7 == 2:\n",
    "    day = 'SAT'\n",
    "elif inputNum == 3:\n",
    "    day = 'SUN'\n",
    "elif inputNum == 4:\n",
    "    day = 'MON'\n",
    "elif inputNum == 5:\n",
    "    day = 'TUE'\n",
    "elif inputNum == 6:\n",
    "    day = 'WED'\n",
    "elif inputNum == 7:\n",
    "    day = 'THU'\n",
    "else:\n",
    "    day = 'please put the right number'\n",
    "print(day)"
   ]
  },
  {
   "cell_type": "code",
   "execution_count": 89,
   "metadata": {},
   "outputs": [],
   "source": [
    "def getDayName2(b):\n",
    "    if b < 32:\n",
    "        if b%7 == 1:\n",
    "            day = 'FRI'\n",
    "        elif b%7 == 2:\n",
    "            day = 'SAT'\n",
    "        elif b%7 == 3:\n",
    "            day = 'SUN'\n",
    "        elif b%7 == 4:\n",
    "            day = 'MON'\n",
    "        elif b%7 == 5:\n",
    "            day = 'TUE'\n",
    "        elif b%7 == 6:\n",
    "            day = 'WED'\n",
    "        elif b%7 == 7:\n",
    "            day = 'THU'\n",
    "    else:\n",
    "        day = \"해당 월에는 없는 날짜입니다.\"\n",
    "    return day"
   ]
  },
  {
   "cell_type": "code",
   "execution_count": 90,
   "metadata": {},
   "outputs": [
    {
     "name": "stdout",
     "output_type": "stream",
     "text": [
      "해당 월에는 없는 날짜입니다.\n"
     ]
    }
   ],
   "source": [
    "print(getDayName2(32))"
   ]
  },
  {
   "cell_type": "markdown",
   "metadata": {},
   "source": [
    "inputNum 을 startNum + 7 \\* 1, startNum +7 \\* 2, startNum + 7 \\* 3 이런식으로 나타내고 싶으면? <br>\n",
    "1 = 0 \\* 7 + 1 <br>\n",
    "2 = 0 \\* 7 + 2 <br>\n",
    "3 = 0 \\* 7 + 3 <br>\n",
    "4 = 0 \\* 7 + 4 <br>\n",
    "5 = 0 \\* 7 + 5 <br>\n",
    "6 = 0 \\* 7 + 6 <br>\n",
    "7 = 1 \\* 7 + 0 <br>\n",
    "8 = 1 \\* 7 + 1 <br>\n",
    "9 = 1 \\* 7 + 2 <br>\n",
    "10 = 1 \\* 7 + 3 <br>\n",
    "11 = 1 \\* 7 + 4 <br>\n",
    "12 = 1 \\* 7 + 5 <br>\n",
    "13 = 1 \\* 7 +  6<br>\n",
    "14 = 2 \\* 7 <br>\n",
    "....."
   ]
  },
  {
   "cell_type": "code",
   "execution_count": 54,
   "metadata": {
    "collapsed": true
   },
   "outputs": [],
   "source": [
    "x = 2"
   ]
  },
  {
   "cell_type": "code",
   "execution_count": 28,
   "metadata": {},
   "outputs": [
    {
     "data": {
      "text/plain": [
       "'SAT'"
      ]
     },
     "execution_count": 28,
     "metadata": {},
     "output_type": "execute_result"
    }
   ],
   "source": [
    "x = 1\n",
    "# x = 2\n",
    "day = ['FRI', 'SAT', 'SUN', 'MON', 'TUE', 'WED', 'THU']\n",
    "day[x%7]\n",
    "# x에 1일이 들어가면 되는데.. "
   ]
  },
  {
   "cell_type": "markdown",
   "metadata": {},
   "source": [
    "### 다른사람의 문제풀이 보고 학습하기"
   ]
  },
  {
   "cell_type": "code",
   "execution_count": 91,
   "metadata": {},
   "outputs": [
    {
     "name": "stdout",
     "output_type": "stream",
     "text": [
      "TUE\n"
     ]
    }
   ],
   "source": [
    "import datetime\n",
    "def getDayName3(a, b):\n",
    "    z = (datetime.date(2016,a, b) - datetime.date(2016,1,1)).days\n",
    "    a = ['FRI', 'SAT', 'SUN', 'MON', 'TUE', 'WED', 'THU']\n",
    "    return a[(z%7)]\n",
    "print(getDayName3(5, 24))"
   ]
  },
  {
   "cell_type": "markdown",
   "metadata": {},
   "source": [
    "### 풀이2 if문에 따라 a를 나누고, 365일 날짜로 계산 "
   ]
  },
  {
   "cell_type": "code",
   "execution_count": 101,
   "metadata": {},
   "outputs": [
    {
     "name": "stdout",
     "output_type": "stream",
     "text": [
      "TUE\n"
     ]
    }
   ],
   "source": [
    "def getDayName4(a, b):\n",
    "    answer= \"\"\n",
    "    if a >= 2: #2월이 되면, 1월의 31을 날짜에 더해준다.\n",
    "        b += 31\n",
    "        if a>= 3: #3월이 되면, 2월의 28일을 날짜에 더해준다.\n",
    "            b+=29\n",
    "            if a >= 4: # 4월이 되면 \n",
    "                b+=31\n",
    "                if a >= 5: #5월이 되면\n",
    "                    b+=30\n",
    "                    if a >= 6: #6월이 되면\n",
    "                        b+=31\n",
    "                        if a>= 7:\n",
    "                            b += 30\n",
    "                            if a >= 8:\n",
    "                                b += 31\n",
    "                                if a >= 9:\n",
    "                                    b += 31\n",
    "                                    if a >= 10:\n",
    "                                        b += 30\n",
    "                                        if a >= 11:\n",
    "                                            b += 31\n",
    "                                            if a == 12:\n",
    "                                                b += 30\n",
    "    b=b%7\n",
    "    \n",
    "    if b==1:answer=\"FRI\"\n",
    "    elif b==2:answer=\"SAT\"\n",
    "    elif b==3:answer=\"SUN\"\n",
    "    elif b==4:answer=\"MON\"\n",
    "    elif b==5:answer=\"TUE\"\n",
    "    elif b==6:answer=\"WED\"\n",
    "    else:answer=\"THU\"\n",
    "    return answer\n",
    "print(getDayName4(5, 24))"
   ]
  },
  {
   "cell_type": "code",
   "execution_count": 102,
   "metadata": {
    "scrolled": true
   },
   "outputs": [
    {
     "name": "stdout",
     "output_type": "stream",
     "text": [
      "2 32\n"
     ]
    }
   ],
   "source": [
    "a = 2\n",
    "b = 1\n",
    "if a >= 2 :\n",
    "    b += 31\n",
    "print(a,b)"
   ]
  },
  {
   "cell_type": "markdown",
   "metadata": {},
   "source": [
    "### 풀이3 dictionary를 사용해 월과 월의 끝을 사용\n",
    "> index 접근으로 day list가 목요일 부터 시작"
   ]
  },
  {
   "cell_type": "code",
   "execution_count": 123,
   "metadata": {},
   "outputs": [
    {
     "name": "stdout",
     "output_type": "stream",
     "text": [
      "SUN\n"
     ]
    }
   ],
   "source": [
    "def getDayName(a, b):\n",
    "    day_name = ['THU', 'FRI', 'SAT', 'SUN', 'MON', 'TUE', 'WED']\n",
    "    month_dict = {\n",
    "        \"1\":31, \n",
    "        \"2\":29,\n",
    "        \"3\":31,\n",
    "        \"4\":30,\n",
    "        \"5\":31,\n",
    "        \"6\":30,\n",
    "        \"7\":31,\n",
    "        \"8\":31,\n",
    "        \"9\":30,\n",
    "        \"10\":31,\n",
    "        \"11\":30,\n",
    "        \"12\":31\n",
    "    }\n",
    "    days = 0 # 초기화\n",
    "    for i in range(1, a):\n",
    "        days += month_dict[str(i)]\n",
    "    days += b\n",
    "    index = days%7\n",
    "    \n",
    "    return day_name[index]\n",
    "print(getDayName4(1, 24))"
   ]
  },
  {
   "cell_type": "code",
   "execution_count": 111,
   "metadata": {
    "collapsed": true
   },
   "outputs": [],
   "source": [
    "    month_dict = {\n",
    "        \"1\":31, \n",
    "        \"2\":29,\n",
    "        \"3\":31,\n",
    "        \"4\":30,\n",
    "        \"5\":31,\n",
    "        \"6\":30,\n",
    "        \"7\":31,\n",
    "        \"8\":31,\n",
    "        \"9\":30,\n",
    "        \"10\":31,\n",
    "        \"11\":30,\n",
    "        \"12\":31\n",
    "    }"
   ]
  },
  {
   "cell_type": "code",
   "execution_count": 181,
   "metadata": {},
   "outputs": [
    {
     "name": "stdout",
     "output_type": "stream",
     "text": [
      "1\n",
      "31\n",
      "32\n"
     ]
    }
   ],
   "source": [
    "# a = 0 #a가 0일때는 아무런 일이 일어나지 않는다. \n",
    "# a = 1 \n",
    "# a가 1일 때는 아무런 일이 일어나지 않는다. days에는 b에 입력받은 값 그대로를 사용한다.\n",
    "\n",
    "a = 2 #1월달의 날짜가 더해진다.\n",
    "# a = 12\n",
    "\n",
    "b = 1\n",
    "# b = 2\n",
    "\n",
    "days = 0\n",
    "for i in range(1, a):\n",
    "    print(i)\n",
    "    print(month_dict[str(i)])\n",
    "    days = month_dict[str(i)]\n",
    "#     days += month_dict[str[i]]\n",
    "\n",
    "days += b\n",
    "print(days)"
   ]
  },
  {
   "cell_type": "markdown",
   "metadata": {},
   "source": [
    "> range()는 1월보다 뒤의 달 2월, 3월.. 의 날짜를 계산하기 위해 이용\n",
    "<br>\n",
    "2월일 경우 1월달의 31을 더해준다."
   ]
  },
  {
   "cell_type": "code",
   "execution_count": 146,
   "metadata": {},
   "outputs": [
    {
     "name": "stdout",
     "output_type": "stream",
     "text": [
      "1\n",
      "FRI\n"
     ]
    }
   ],
   "source": [
    "day_name = ['THU', 'FRI', 'SAT', 'SUN', 'MON', 'TUE', 'WED']\n",
    "    \n",
    "index = days%7\n",
    "print(index)\n",
    "\n",
    "print(day_name[index])"
   ]
  },
  {
   "cell_type": "markdown",
   "metadata": {},
   "source": [
    "> 인덱스로 접근할 때 7%7 == 0일 경우 목요일"
   ]
  },
  {
   "cell_type": "code",
   "execution_count": 138,
   "metadata": {},
   "outputs": [
    {
     "name": "stdout",
     "output_type": "stream",
     "text": [
      "range(1, 0)\n",
      "range(1, 1)\n",
      "range(1, 2)\n",
      "==============\n",
      "1\n",
      "2\n",
      "3\n",
      "4\n",
      "5\n",
      "6\n",
      "7\n",
      "8\n",
      "9\n",
      "10\n",
      "11\n",
      "==============\n",
      "==============\n",
      "1\n"
     ]
    }
   ],
   "source": [
    "print(range(1, 0))\n",
    "print(range(1, 1))\n",
    "print(range(1, 2))\n",
    "\n",
    "print(\"==============\")\n",
    "for i in range(1, 12):\n",
    "    print(i)\n",
    "\n",
    "print(\"==============\")\n",
    "for i in range(1, 1):\n",
    "    print(i)\n",
    "\n",
    "print(\"==============\")\n",
    "for i in range(1, 2):\n",
    "    print(i)"
   ]
  },
  {
   "cell_type": "markdown",
   "metadata": {},
   "source": [
    "### 풀이4 list와 list, sum함수 이용"
   ]
  },
  {
   "cell_type": "code",
   "execution_count": 147,
   "metadata": {},
   "outputs": [
    {
     "name": "stdout",
     "output_type": "stream",
     "text": [
      "TUE\n"
     ]
    }
   ],
   "source": [
    "def getDayName5(a, b):\n",
    "    months = [31, 29, 31, 30, 31, 30, 31, 31, 30, 31, 30, 31]\n",
    "    days = ['FRI', 'SAT', 'SUN', 'MON', 'TUE', 'WED', 'THU']\n",
    "    return days[(sum(months[:a-1])+b-1)%7]\n",
    "print(getDayName5(5,24))"
   ]
  },
  {
   "cell_type": "code",
   "execution_count": 168,
   "metadata": {
    "collapsed": true
   },
   "outputs": [],
   "source": [
    "from IPython.core.interactiveshell import InteractiveShell\n",
    "InteractiveShell.node_ast_interactivity='all'"
   ]
  },
  {
   "cell_type": "code",
   "execution_count": 177,
   "metadata": {},
   "outputs": [
    {
     "name": "stdout",
     "output_type": "stream",
     "text": [
      "<class 'int'>\n",
      "<class 'int'>\n",
      "366\n",
      "31\n",
      "60\n",
      "0\n",
      "================\n",
      "1\n",
      "SAT\n",
      "======따라서====\n",
      "0\n",
      "======마지막으로 ====\n",
      "5\n"
     ]
    },
    {
     "data": {
      "text/plain": [
       "'WED'"
      ]
     },
     "execution_count": 177,
     "metadata": {},
     "output_type": "execute_result"
    }
   ],
   "source": [
    "a = 1\n",
    "b = 1\n",
    "print(type(a))\n",
    "print(type(b))\n",
    "months = [31, 29, 31, 30, 31, 30, 31, 31, 30, 31, 30, 31]\n",
    "print(sum(months))\n",
    "print(sum(months[:1]))\n",
    "print(sum(months[:2]))\n",
    "print(sum(months[:a-1]))\n",
    "print(\"================\")\n",
    "a = 1\n",
    "b = 1\n",
    "print(sum(months[:a-1])+b )# 이면 목요일부터 시작되니까? 토요일이 나옴\n",
    "\n",
    "days = ['FRI', 'SAT', 'SUN', 'MON', 'TUE', 'WED', 'THU']\n",
    "print(days[sum(months[:a-1])+b])\n",
    "\n",
    "print(\"======따라서====\")\n",
    "a = 1\n",
    "b = 1\n",
    "print(sum(months[:a-1])+b-1)\n",
    "days[sum(months[:a-1])+b-1]\n",
    "\n",
    "print(\"======마지막으로 ====\")\n",
    "a = 2\n",
    "b = 24\n",
    "print((sum(months[:a-1])+b-1)%7)\n",
    "days[(sum(months[:a-1])+b-1)%7]"
   ]
  },
  {
   "cell_type": "markdown",
   "metadata": {},
   "source": [
    "### 풀이7 위의 것 풀이와 비슷, +for문과 range()를 사용해 월 계산"
   ]
  },
  {
   "cell_type": "code",
   "execution_count": 182,
   "metadata": {},
   "outputs": [
    {
     "name": "stdout",
     "output_type": "stream",
     "text": [
      "TUE\n"
     ]
    }
   ],
   "source": [
    "days = ['SUN','MON','TUE','WED','THU','FRI','SAT']\n",
    "month = [31,29,31,30,31,30,31,31,30,31,30,31]\n",
    "def getDayName8(a,b):\n",
    "    day_count = sum(month[i] for i in range(a-1)) + b - 1\n",
    "    return days[(day_count+5)%7]\n",
    "\n",
    "#아래 코드는 테스트를 위한 출력 코드입니다.\n",
    "print(getDayName8(5,24))"
   ]
  },
  {
   "cell_type": "markdown",
   "metadata": {},
   "source": [
    "### 풀이5 datetime 라이브러리 사용"
   ]
  },
  {
   "cell_type": "code",
   "execution_count": 179,
   "metadata": {},
   "outputs": [
    {
     "name": "stdout",
     "output_type": "stream",
     "text": [
      "TUE\n"
     ]
    }
   ],
   "source": [
    "import datetime\n",
    "def getDayName6(a, b):\n",
    "    w = {0:\"MON\", 1:\"TUE\", 2:\"WED\",\n",
    "         3:\"THU\", 4:\"FRI\", 5:\"SAT\", 6:\"SUN\"}    \n",
    "    d = datetime.date(2016, a, b).weekday()\n",
    "    return w.get(d)\n",
    "print(getDayName6(5,24))"
   ]
  },
  {
   "cell_type": "markdown",
   "metadata": {},
   "source": [
    "### 풀이6 월 끝이 31, 30, 28인 것을 나눠서 접근한 풀이"
   ]
  },
  {
   "cell_type": "code",
   "execution_count": 180,
   "metadata": {},
   "outputs": [
    {
     "name": "stdout",
     "output_type": "stream",
     "text": [
      "TUE\n"
     ]
    }
   ],
   "source": [
    "def getDayName7(a,b):\n",
    "    days = 0\n",
    "    count = 1\n",
    "    if count == a :\n",
    "        days = b -1\n",
    "    else :\n",
    "        while count < a :\n",
    "            if (count == 1 or count == 3 or count == 5 or count == 7 or count == 8 or count == 10 or count == 12):\n",
    "                days += 31\n",
    "                count +=1\n",
    "                continue\n",
    "            elif count == 2 :\n",
    "                days += 29\n",
    "                count +=1\n",
    "                continue\n",
    "            else:\n",
    "                days += 30\n",
    "                count +=1\n",
    "                continue\n",
    "        days += b-1\n",
    "    daylist = ['FRI','SAT','SUN','MON','TUE','WED','THU']\n",
    "    return daylist[days%7]\n",
    "\n",
    "#아래 코드는 테스트를 위한 출력 코드입니다.\n",
    "print(getDayName7(5,24))"
   ]
  },
  {
   "cell_type": "markdown",
   "metadata": {},
   "source": [
    "### 풀이8 if/else"
   ]
  },
  {
   "cell_type": "code",
   "execution_count": 183,
   "metadata": {},
   "outputs": [
    {
     "name": "stdout",
     "output_type": "stream",
     "text": [
      "TUE\n"
     ]
    }
   ],
   "source": [
    "dic = {1 : 0, 2 : 31, 3 : 60, 4 : 91, 5 : 121, 6 : 152, 7 : 182, 8 : 213, 9 : 244, 10 : 274, 11 : 305, 12 : 335}\n",
    "def getDayName9(a,b):\n",
    "    result = dic[a] + b\n",
    "    if result % 7 == 1:\n",
    "        return \"FRI\"\n",
    "    elif result % 7 == 2:\n",
    "        return \"SAT\"\n",
    "    elif result % 7 == 3:\n",
    "        return \"SUN\"\n",
    "    elif result % 7 == 4:\n",
    "        return \"MON\"\n",
    "    elif result % 7 == 5:\n",
    "        return \"TUE\"\n",
    "    elif result % 7 == 6:\n",
    "        return \"WED\"\n",
    "    elif result % 7 == 0:\n",
    "        return \"THU\"\n",
    "\n",
    "print(getDayName9(5,24))"
   ]
  },
  {
   "cell_type": "markdown",
   "metadata": {},
   "source": [
    "1. input 받는 값에 주목!\n",
    "> input 받는 값을 형식에 맞추어 변환시켜 output을 낸다.\n",
    "<br>\n",
    "<br>\n",
    "> 예를 들어 1월 1일은 **(a,b) = (1, 1)** 이다.\n",
    "<br>\n",
    "> 2월 1일은 (a,b) = a는 2를 입력받고, b는 1을 입력받지만, \n",
    "다르게 나타낼 수 있다.\n",
    "<br>\n",
    "> <u>월/일은 365일 안에서 나타낼 수 있다는 것을 이용하면</u> \n",
    "> a의 상태값에 따라, b값에 변화를 주어 **변경 된 b값 만으로**  요일을 나타낼 수 있다. \n",
    "<br>\n",
    "> a에 2를 받아, 이 상태를 b값에 적용하면 +31을 돼, b는 32로 된다. \n",
    "<br>\n",
    "<br>\n",
    "\n",
    "\n",
    "**a의 상태가 들어간 변경된 b값 만으로 결과를 뽑아낼 수 있다.**"
   ]
  },
  {
   "cell_type": "markdown",
   "metadata": {},
   "source": [
    "# 문제2 최솟값 만들기\n",
    "자연수로 이루어진 길이가 같은 수열 A,B가 있습니다. 최솟값 만들기는 A, B에서 각각 한 개의 숫자를 뽑아 두 수를 곱한 값을 누적하여 더합니다. 이러한 과정을 수열의 길이만큼 반복하여 최종적으로 누적된 값이 최소가 되도록 만드는 것이 목표입니다.\n",
    "\n",
    "예를 들어 A = [1, 2] , B = [3, 4] 라면\n",
    "\n",
    "1. A에서 1, B에서 4를 뽑아 곱하여 더합니다.\n",
    "2. A에서 2, B에서 3을 뽑아 곱하여 더합니다.\n",
    "\n",
    "수열의 길이만큼 반복하여 최솟값 10을 얻을 수 있으며, 이 10이 최솟값이 됩니다.\n",
    "수열 A,B가 주어질 때, 최솟값을 반환해주는 getMinSum 함수를 완성하세요."
   ]
  },
  {
   "cell_type": "markdown",
   "metadata": {},
   "source": [
    "1. list \\* list \n",
    "2. 각각 list에 해당하는 값을 빠짐없이 골라 한번씩 곱할 수 있도록 하기 \n",
    "3. 재귀랑 행렬로 해보기"
   ]
  },
  {
   "cell_type": "code",
   "execution_count": 186,
   "metadata": {
    "collapsed": true
   },
   "outputs": [],
   "source": [
    "A = [1, 2]\n",
    "B = [3, 4]"
   ]
  },
  {
   "cell_type": "code",
   "execution_count": 200,
   "metadata": {
    "scrolled": true
   },
   "outputs": [
    {
     "name": "stdout",
     "output_type": "stream",
     "text": [
      "2\n",
      "1\n"
     ]
    }
   ],
   "source": [
    "print(len(A))\n",
    "print(A.count(2))"
   ]
  },
  {
   "cell_type": "code",
   "execution_count": 205,
   "metadata": {},
   "outputs": [
    {
     "name": "stdout",
     "output_type": "stream",
     "text": [
      "11\n",
      "10\n"
     ]
    }
   ],
   "source": [
    "print((A[0] * B[0]) + (A[1] * B[1]))\n",
    "print((A[0] * B[1]) + (A[1] * B[0]))"
   ]
  },
  {
   "cell_type": "code",
   "execution_count": 209,
   "metadata": {},
   "outputs": [
    {
     "name": "stdout",
     "output_type": "stream",
     "text": [
      "0\n",
      "1\n",
      "1\n",
      "2\n"
     ]
    }
   ],
   "source": [
    "for i in range(len(A)):\n",
    "    print(i)\n",
    "    print(A[i])"
   ]
  },
  {
   "cell_type": "code",
   "execution_count": 206,
   "metadata": {
    "collapsed": true
   },
   "outputs": [],
   "source": [
    "def getMinSum(A, B):\n",
    "    answer = 0\n",
    "    for i in range(len(A)):\n",
    "        \n",
    "        \n",
    "    answer = min(c, d)\n",
    "    return answer"
   ]
  },
  {
   "cell_type": "code",
   "execution_count": 207,
   "metadata": {},
   "outputs": [
    {
     "name": "stdout",
     "output_type": "stream",
     "text": [
      "10\n"
     ]
    }
   ],
   "source": [
    "print(getMinSum([1,2],[3,4]))"
   ]
  },
  {
   "cell_type": "code",
   "execution_count": null,
   "metadata": {
    "collapsed": true
   },
   "outputs": [],
   "source": []
  }
 ],
 "metadata": {
  "kernelspec": {
   "display_name": "Python 3",
   "language": "python",
   "name": "python3"
  },
  "language_info": {
   "codemirror_mode": {
    "name": "ipython",
    "version": 3
   },
   "file_extension": ".py",
   "mimetype": "text/x-python",
   "name": "python",
   "nbconvert_exporter": "python",
   "pygments_lexer": "ipython3",
   "version": "3.6.1"
  }
 },
 "nbformat": 4,
 "nbformat_minor": 2
}
