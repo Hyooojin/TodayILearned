{
 "cells": [
  {
   "cell_type": "markdown",
   "metadata": {},
   "source": [
    "# (문제1) 2016년\n",
    "2016년 1월 1일은 금요일입니다. 2016년 A월 B일은 무슨 요일일까요? 두 수 A,B를 입력받아 A월 B일이 무슨 요일인지 출력하는 getDayName 함수를 완성하세요. 요일의 이름은 일요일부터 토요일까지 각각\n",
    "\n",
    "SUN,MON,TUE,WED,THU,FRI,SAT\n",
    "\n",
    "를 출력해주면 됩니다. 예를 들어 A=5, B=24가 입력된다면 5월 24일은 화요일이므로 TUE를 반환하면 됩니다.\n",
    "<br>\n",
    "[2016년](https://programmers.co.kr/learn/challenge_codes/177)"
   ]
  },
  {
   "cell_type": "markdown",
   "metadata": {},
   "source": [
    "1. 날짜계산\n",
    "2. 요일은 7로 반복"
   ]
  },
  {
   "cell_type": "markdown",
   "metadata": {},
   "source": [
    "sun mon tue wed thu fri sat <br>\n",
    "<span/><span/><span/><span/> 1<span/>2 <br>\n",
    "3    4   5   6   7   8   9 <br>\n",
    "10   11  12  13  14  15  16 <br>\n",
    "17   18  19  20  21  22  23 <br>\n",
    "24   25  26  27  28  29  30 <br>\n",
    "31"
   ]
  },
  {
   "cell_type": "code",
   "execution_count": 1,
   "metadata": {
    "collapsed": true
   },
   "outputs": [],
   "source": [
    "# 2016년 1월 1일 금요일\n",
    "# 일부터 계산\n",
    "day = ['SUN', 'MON', 'TUE', 'WED', 'THU', 'FRI', 'SAT']"
   ]
  },
  {
   "cell_type": "code",
   "execution_count": 8,
   "metadata": {},
   "outputs": [
    {
     "name": "stdout",
     "output_type": "stream",
     "text": [
      "SUN\n",
      "MON\n",
      "TUE\n",
      "WED\n",
      "THU\n",
      "FRI\n",
      "SAT\n"
     ]
    }
   ],
   "source": [
    "for i in day:\n",
    "    if "
   ]
  },
  {
   "cell_type": "code",
   "execution_count": 25,
   "metadata": {
    "collapsed": true
   },
   "outputs": [],
   "source": [
    "x = 2"
   ]
  },
  {
   "cell_type": "code",
   "execution_count": 28,
   "metadata": {},
   "outputs": [
    {
     "data": {
      "text/plain": [
       "'SAT'"
      ]
     },
     "execution_count": 28,
     "metadata": {},
     "output_type": "execute_result"
    }
   ],
   "source": [
    "x = 1\n",
    "# x = 2\n",
    "day = ['FRI', 'SAT', 'SUN', 'MON', 'TUE', 'WED', 'THU']\n",
    "day[x%7]\n",
    "# x에 1일이 들어가면 되는데.. "
   ]
  },
  {
   "cell_type": "code",
   "execution_count": null,
   "metadata": {
    "collapsed": true
   },
   "outputs": [],
   "source": [
    "def getDayName(a, b):"
   ]
  }
 ],
 "metadata": {
  "kernelspec": {
   "display_name": "Python 3",
   "language": "python",
   "name": "python3"
  },
  "language_info": {
   "codemirror_mode": {
    "name": "ipython",
    "version": 3
   },
   "file_extension": ".py",
   "mimetype": "text/x-python",
   "name": "python",
   "nbconvert_exporter": "python",
   "pygments_lexer": "ipython3",
   "version": "3.6.1"
  }
 },
 "nbformat": 4,
 "nbformat_minor": 2
}
