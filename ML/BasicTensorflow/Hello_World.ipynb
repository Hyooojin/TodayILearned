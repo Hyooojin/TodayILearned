{
 "cells": [
  {
   "cell_type": "markdown",
   "metadata": {},
   "source": [
    "# Hello TensorFlow!\n",
    "참고사이트: [김성훈 모두의 머신러닝 github](https://github.com/hunkim/DeepLearningZeroToAll/blob/master/lab-01-basics.ipynb)\n",
    "[https://www.tensorflow.org/get_started/get_started](https://www.tensorflow.org/get_started/get_started)"
   ]
  },
  {
   "cell_type": "code",
   "execution_count": 4,
   "metadata": {},
   "outputs": [
    {
     "data": {
      "text/plain": [
       "'1.4.0'"
      ]
     },
     "execution_count": 4,
     "metadata": {},
     "output_type": "execute_result"
    }
   ],
   "source": [
    "import tensorflow as tf\n",
    "tf.__version__"
   ]
  },
  {
   "cell_type": "code",
   "execution_count": 5,
   "metadata": {},
   "outputs": [
    {
     "name": "stdout",
     "output_type": "stream",
     "text": [
      "b'Hello, TensorFlow'\n"
     ]
    }
   ],
   "source": [
    "hello = tf.constant(\"Hello, TensorFlow\")\n",
    "sess = tf.Session()\n",
    "print(sess.run(hello))"
   ]
  },
  {
   "cell_type": "markdown",
   "metadata": {},
   "source": [
    "1. 문자열을 출력하기 위해서는 constant를 만든다. 이것은 그래프 속에 노드 하나가 있고, **\"Hello, TensorFlow\"라는 문자가 들어있는 노드가 생성**된다.\n",
    "\n",
    "2. Computational Graph를 실행하기 위해서는 **session**을 만들어야 한다. <br> \n",
    "\\* **계산그래프(computational graph): ** 프로그램의 계산 구조를 정의하는 방향성 그래프(directional graph)를 말한다. 노드(node)와 엣지(edge)로 구성된다.<br>\n",
    "[LibQA텐서플로우basic](http://www.libqa.com/\\***유향그래프(directed graph, digraph)\n",
    "\n",
    "3. sess.run (세션.run)으로 hello라는 노드를 실행시킬 수 있다. \n",
    "\n",
    "```\n",
    "tensorflow, constant라는 노드를 하나 만들고\n",
    "session을 만든다음\n",
    "노드를 실행시킨다.\n",
    "```\n",
    "\n",
    "\\***유향그래프(directed graph, digraph): ** 유향그래프는 방향을 가진 그래프이다. \\\\({\\displaystyle \\Gamma =(V,E)}\\\\), 집합  \\\\({\\displaystyle V}\\\\) 와  \\\\({\\displaystyle V}\\\\)의 순서쌍들로 구성된 집합 \\\\(E\\subset V\\times V\\\\)의 순서쌍이다. <br>\n",
    "이 경우,  \\\\({\\displaystyle e=(u,v)}\\\\) 라면 **\\\\({\\displaystyle e}\\\\)**를 \\\\({\\displaystyle u}\\\\)에서 \\\\({\\displaystyle v}\\\\)로 가는 **변**이라고 하며, **꼭짓점 \\\\({\\displaystyle v}\\\\)**는 변 \\\\({\\displaystyle e}\\\\)의 **머리**, **꼭짓점  \\\\({\\displaystyle u}\\\\)**는 변 \\\\({\\displaystyle e}\\\\)의 **꼬리**라고 한다.<br>\n",
    "\n",
    "<img src= https://upload.wikimedia.org/wikipedia/commons/thumb/a/a2/Directed.svg/180px-Directed.svg.png>\n",
    "[제타위키_유향그래프](https://zetawiki.com/wiki/%EC%9C%A0%ED%96%A5_%EA%B7%B8%EB%9E%98%ED%94%84), [가중그래프](https://ko.wikipedia.org/wiki/%EA%B0%80%EC%A4%91_%EA%B7%B8%EB%9E%98%ED%94%84), [유향그래프 그림 출저](https://zetawiki.com/wiki/%EC%9C%A0%ED%96%A5_%EA%B7%B8%EB%9E%98%ED%94%84)"
   ]
  },
  {
   "cell_type": "markdown",
   "metadata": {},
   "source": [
    "# Computational Graph"
   ]
  },
  {
   "cell_type": "code",
   "execution_count": 9,
   "metadata": {},
   "outputs": [],
   "source": [
    "node1 = tf.constant(3.0, tf.float32)\n",
    "node2 = tf.constant(4.0)\n",
    "node3 = tf.add(node1, node2)\n",
    "# node3 = node1 + node2"
   ]
  },
  {
   "cell_type": "code",
   "execution_count": 10,
   "metadata": {},
   "outputs": [
    {
     "name": "stdout",
     "output_type": "stream",
     "text": [
      "Tensor(\"Const_5:0\", shape=(), dtype=float32)\n",
      "Tensor(\"Const_6:0\", shape=(), dtype=float32)\n",
      "Tensor(\"Add:0\", shape=(), dtype=float32)\n"
     ]
    }
   ],
   "source": [
    "print(node1)\n",
    "print(node2)\n",
    "print(node3)"
   ]
  },
  {
   "cell_type": "markdown",
   "metadata": {},
   "source": [
    "print(node)를 했을 경우, <br>\n",
    "\"이것은 그래프의 하나의 요소라고만 말해준다.\""
   ]
  },
  {
   "cell_type": "code",
   "execution_count": 12,
   "metadata": {},
   "outputs": [
    {
     "name": "stdout",
     "output_type": "stream",
     "text": [
      "[3.0, 4.0]\n"
     ]
    }
   ],
   "source": [
    "sess = tf.Session()\n",
    "print(sess.run([node1, node2]))"
   ]
  },
  {
   "cell_type": "code",
   "execution_count": 13,
   "metadata": {},
   "outputs": [
    {
     "data": {
      "text/plain": [
       "7.0"
      ]
     },
     "execution_count": 13,
     "metadata": {},
     "output_type": "execute_result"
    }
   ],
   "source": [
    "sess.run(node3)"
   ]
  },
  {
   "cell_type": "markdown",
   "metadata": {},
   "source": [
    "> 1. 첫번째로, 그래프를 빌드한다.\n",
    ">> 그래프를 정의할 때 placeholder를 사용할 수 있다.\n",
    "> 2. 그래프를 실행시킨다. >> sess.run()\n",
    ">> feed_dict로 값을 넘겨준다.\n",
    "> 3. 그래프 속에 있는 값들을 리턴하거나 업데이트 시킨다. >> sessionrun이 리턴하는 값"
   ]
  },
  {
   "cell_type": "markdown",
   "metadata": {},
   "source": [
    "# Placeholder\n",
    "1. 그래프를 미리 만들어 놓는다.\n",
    "2. 그래프를 실행시키는 단계에서 값들을 던져준다.\n",
    "3. 노드를 만드는데, 노드를 placeholder라는 특별한 노드로 만들어준다.\n",
    "> 세션을 만들고, 세션을 실행시키는데,<br>\n",
    "그래프를 실행시키려고 하는데, node의 값들을 모를 때, <br>\n",
    "placeholder에서 넘어온 값을 사용하게 된다. <br>\n",
    "> * feed_dict를 사용"
   ]
  },
  {
   "cell_type": "code",
   "execution_count": 16,
   "metadata": {},
   "outputs": [
    {
     "name": "stdout",
     "output_type": "stream",
     "text": [
      "7.5\n",
      "[3. 7.]\n"
     ]
    }
   ],
   "source": [
    "a = tf.placeholder(tf.float32)\n",
    "b = tf.placeholder(tf.float32)\n",
    "adder_node = a+b\n",
    "\n",
    "print(sess.run(adder_node, feed_dict={a: 3, b:4.5}))\n",
    "print(sess.run(adder_node, feed_dict={a: [1, 3], b: [2, 4]}))\n",
    "# 배열끼리 더해진다."
   ]
  },
  {
   "cell_type": "markdown",
   "metadata": {},
   "source": [
    "# Everything is Tensor\n",
    "tensor라는 것은 기본적으로 array를 말한다."
   ]
  },
  {
   "cell_type": "code",
   "execution_count": 18,
   "metadata": {},
   "outputs": [
    {
     "data": {
      "text/plain": [
       "[1.0, 2.0, 3.0]"
      ]
     },
     "execution_count": 18,
     "metadata": {},
     "output_type": "execute_result"
    }
   ],
   "source": [
    "[1., 2., 3.]"
   ]
  },
  {
   "cell_type": "markdown",
   "metadata": {},
   "source": [
    "# Tensor Ranks\n",
    "몇차원의 array인가를 나타낸다."
   ]
  },
  {
   "cell_type": "code",
   "execution_count": 19,
   "metadata": {
    "collapsed": true
   },
   "outputs": [],
   "source": [
    "t = [[1., 2., 3.], [4., 5., 6.], [7., 8., 9.]]"
   ]
  },
  {
   "cell_type": "code",
   "execution_count": 20,
   "metadata": {
    "collapsed": true
   },
   "outputs": [],
   "source": [
    "# rank 0\n",
    "s = 484 # 0차원의 array # Scalar(magnitude only) \n",
    "#rank 1\n",
    "v = [1.1, 2.2, 3.3] # 1차원 Vector(magnitude and direction)\n",
    "# rank 2\n",
    "m = [[1., 2., 3.], [4., 5., 6.],[7., 8., 9.]] #2차원 (Matrix of numbers)\n",
    "# rank 3\n",
    "t = [[[2], [4], [6]], [[8], [9], [10]], [[14],[15],[16]]] #3차원(Cube of numbers)"
   ]
  },
  {
   "cell_type": "markdown",
   "metadata": {},
   "source": [
    "# Tensor Shapes\n",
    "각각의 element에 몇 개씩 들어있느냐\n",
    "> **[D0, D1]**,  **2-D** <br> \n",
    "> * 2차원 tensor인데 내부적으로는 D1만큼의 element를 가지고 있으면, D0만큼의 2차원을 가지고 있다. "
   ]
  },
  {
   "cell_type": "markdown",
   "metadata": {},
   "source": [
    "# Tensor dataTypes\n",
    "\n",
    "```python\n",
    "tf.float32 #DT_FLOAT\n",
    "tf.float64 #DT_DOUBLE\n",
    "tf.int8 #tf.int8\n",
    "tf.int16 #DT_INT16\n",
    "```"
   ]
  },
  {
   "cell_type": "code",
   "execution_count": null,
   "metadata": {
    "collapsed": true
   },
   "outputs": [],
   "source": []
  }
 ],
 "metadata": {
  "kernelspec": {
   "display_name": "Python 3",
   "language": "python",
   "name": "python3"
  },
  "language_info": {
   "codemirror_mode": {
    "name": "ipython",
    "version": 3
   },
   "file_extension": ".py",
   "mimetype": "text/x-python",
   "name": "python",
   "nbconvert_exporter": "python",
   "pygments_lexer": "ipython3",
   "version": "3.6.1"
  }
 },
 "nbformat": 4,
 "nbformat_minor": 2
}
