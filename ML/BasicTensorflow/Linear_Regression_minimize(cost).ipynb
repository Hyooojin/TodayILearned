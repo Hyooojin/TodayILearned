{
 "cells": [
  {
   "cell_type": "markdown",
   "metadata": {},
   "source": [
    " # cost minimize\n",
    "여러개의 hypothesis가 있다면 그 중에서 가장 적합한 hypothesis는 무엇이 될까를 알기 위해, 코스트를 사용하게 된다.<br> \n",
    "가설과 실제 데이터사이에 차이가 크면 적합하지 않은 가설<br>\n",
    "차이가 적으면 적합한 가설이다.\n",
    "<br>\n",
    "출저: [cost란?](http://skagh.tistory.com/16)\n",
    " \n",
    " ## Simplified hypothesis\n",
    " #### \\\\(H(x) = Wx\\\\)\n",
    " #### \\\\(cost(W)\\\\) = \\\\(\\frac{1}{m}\\sum_{i=1}^{m} (W(x^i)-y^i)^2\\\\)\n",
    " \n",
    " x: [1, 2, 3] <br>\n",
    " y: [1, 2, 3] <br>\n",
    " \n",
    " ### cost minimize\n",
    " \\\\(W=1, cost(W)\\\\)=? = 0 <br>\n",
    " \\\\(W=0, cost(W)\\\\)=? = 4.67 <br>\n",
    " \\\\(W=2, cost(W)\\\\)=? = 4.67 <br>\n",
    " ![Cost Image](cost_w_and_w.png) \n",
    " \n",
    " #### => cost가 최소인 지점 찾기\n",
    " <br>\n",
    " ### Gradient descent algorithm\n",
    " * Minimize cost Function\n",
    " * Gradient descent is user many minimization problems\n",
    " * For a given cost function, cost(W, b), it will find W, b to minimize cost\n",
    " * It cna be apllied to more general function: cost(w1, w2...)\n",
    " \n",
    " 경사도를 따라서 한발자국씩 움직인다. <br>\n",
    " \n",
    " \n",
    " ### 경사도\n",
    " * 미분을 사용해서 경사도를 구한다 <br>\n",
    " \n",
    " \\* **미분**은 주어진 그래프에서 경사도를 구한다.\n",
    " \n",
    " \\\\(cost(W, b)\\\\) = \\\\(\\frac{1}{2m}\\sum_{i=1}^{m} (H(x^i)-y^i)^2\\\\) <br>\n",
    " \n",
    " \\\\(cost(W)\\\\) = \\\\(\\frac{1}{2m}\\sum_{i=1}^{m} (W(x^i)-y^i)^2\\\\) <br>\n",
    " \n",
    " \n",
    " \\\\(W := W - \\alpha\\frac{\\partial}{\\partial W}cost(W)\\\\) <br>\n",
    " W를 W에서 코스트함수에서 <br>\n",
    " <br>\n",
    " \\\\(\\alpha\\\\):  learning_rate <br><br>\n",
    " \\\\(\\alpha\\frac{\\partial}{\\partial W}cost(W)\\\\) :   learning_rate \\\\(*\\\\) cost함수를 \\\\(W\\\\)로 미분한것 <br><br>\n",
    " 기울기가 +이면 W를 작은 값으로 움직이고, <br>\n",
    " 기울기가 -이면 W를 큰 값으로 옮긴다.\n",
    " \n",
    " ### 미분을 하는 절차\n",
    " \n",
    " ### descent algorithm\n",
    " 여러번 실행시키면서 \\\\(W\\\\)값이 변하는데, 여러번 실행시켜 변화된 \\\\(W\\\\)값이 cost를 minimize한 값이 된다.<br>\n",
    " <br>\n",
    "  \\\\(W := W - \\alpha\\frac{1}{m}\\sum_{i=1}^{m}(Wx^i-y^i)x^i\\\\) <br>"
   ]
  },
  {
   "cell_type": "code",
   "execution_count": 1,
   "metadata": {},
   "outputs": [
    {
     "name": "stderr",
     "output_type": "stream",
     "text": [
      "C:\\Anaconda3\\lib\\site-packages\\h5py\\__init__.py:36: FutureWarning: Conversion of the second argument of issubdtype from `float` to `np.floating` is deprecated. In future, it will be treated as `np.float64 == np.dtype(float).type`.\n",
      "  from ._conv import register_converters as _register_converters\n"
     ]
    }
   ],
   "source": [
    "import tensorflow as tf\n",
    "import matplotlib.pyplot as plt"
   ]
  },
  {
   "cell_type": "code",
   "execution_count": 2,
   "metadata": {},
   "outputs": [
    {
     "data": {
      "image/png": "[encoded data removed]",
      "text/plain": [
       "<matplotlib.figure.Figure at 0x1d40b931c18>"
      ]
     },
     "metadata": {},
     "output_type": "display_data"
    }
   ],
   "source": [
    "X = [1, 2, 3]\n",
    "Y = [1, 2, 3]\n",
    "\n",
    "W = tf.placeholder(tf.float32)\n",
    "hypothesis = X * W # X는 주어졌다.\n",
    "\n",
    "cost = tf.reduce_mean(tf.square(hypothesis - Y))\n",
    "sess = tf.Session()\n",
    "sess.run(tf.global_variables_initializer()) # varialble들을 초기화\n",
    "\n",
    "W_val = [] # W의 값을 저장할 list\n",
    "cost_val = [] #cost의 값을 저장할 list\n",
    "\n",
    "for i in range(-30, 50): \n",
    "    feed_W = i * 0.1 #  W를 -3에서 5 간격에서 움직이고, 0.1만큼씩만 움직이겠다.\n",
    "    curr_cost, curr_W = sess.run([cost, W], feed_dict={W: feed_W})\n",
    "    # feed_dict로 feed_W값을 넘긴다.\n",
    "    W_val.append(curr_W)\n",
    "    cost_val.append(curr_cost)\n",
    "    \n",
    "plt.plot(W_val, cost_val) # x축이 W, y축이 cost\n",
    "plt.show() # 코스트 함수를 시각화\n",
    "\n"
   ]
  },
  {
   "cell_type": "markdown",
   "metadata": {},
   "source": [
    "## Gradient descent\n",
    "W = 1일때, 최적화가 되고, W = 1을 자동으로 찾는다. \n",
    "<br><br>\n",
    "미분이라는 것은 한 점에서 기울기를 나타낸다. **W는 기울기를 따라 W가 최적화된 값을 찾아가는데**, 기울기가, + 그래프인지 -그래프인지에 따라 W는 다른 방향으로 움직이게 된다. <br>\n",
    "* 기울기가 +이면 W는 마이나스 방향으로 움직인다. <br>\n",
    "* 기울기가 -이면 W는 플러스 방향으로 움직인다. <br>\n",
    "\n",
    "### W의 최적화\n",
    "현재의 W에서 기울기를 빼준다."
   ]
  },
  {
   "cell_type": "code",
   "execution_count": 3,
   "metadata": {},
   "outputs": [
    {
     "ename": "AttributeError",
     "evalue": "'Tensor' object has no attribute 'assign'",
     "output_type": "error",
     "traceback": [
      "\u001b[1;31m---------------------------------------------------------------------------\u001b[0m",
      "\u001b[1;31mAttributeError\u001b[0m                            Traceback (most recent call last)",
      "\u001b[1;32m<ipython-input-3-f406eac0d899>\u001b[0m in \u001b[0;36m<module>\u001b[1;34m()\u001b[0m\n\u001b[0;32m      2\u001b[0m \u001b[0mgradient\u001b[0m \u001b[1;33m=\u001b[0m \u001b[0mtf\u001b[0m\u001b[1;33m.\u001b[0m\u001b[0mreduce_mean\u001b[0m\u001b[1;33m(\u001b[0m\u001b[1;33m(\u001b[0m\u001b[0mW\u001b[0m \u001b[1;33m*\u001b[0m \u001b[0mX\u001b[0m \u001b[1;33m-\u001b[0m \u001b[0mY\u001b[0m\u001b[1;33m)\u001b[0m\u001b[1;33m*\u001b[0m\u001b[0mX\u001b[0m\u001b[1;33m)\u001b[0m\u001b[1;33m\u001b[0m\u001b[0m\n\u001b[0;32m      3\u001b[0m \u001b[0mdescent\u001b[0m \u001b[1;33m=\u001b[0m \u001b[0mW\u001b[0m \u001b[1;33m-\u001b[0m \u001b[0mlearning_rate\u001b[0m \u001b[1;33m*\u001b[0m \u001b[0mgradient\u001b[0m\u001b[1;33m\u001b[0m\u001b[0m\n\u001b[1;32m----> 4\u001b[1;33m \u001b[0mupdate\u001b[0m \u001b[1;33m=\u001b[0m \u001b[0mW\u001b[0m\u001b[1;33m.\u001b[0m\u001b[0massign\u001b[0m\u001b[1;33m(\u001b[0m\u001b[0mdescent\u001b[0m\u001b[1;33m)\u001b[0m \u001b[1;31m# tesorflow에서는 =로 assign을 할 수 없다.\u001b[0m\u001b[1;33m\u001b[0m\u001b[0m\n\u001b[0m",
      "\u001b[1;31mAttributeError\u001b[0m: 'Tensor' object has no attribute 'assign'"
     ]
    }
   ],
   "source": [
    "learning_rate = 0.1\n",
    "gradient = tf.reduce_mean((W * X - Y)*X)\n",
    "descent = W - learning_rate * gradient\n",
    "update = W.assign(descent) # tesorflow에서는 =로 assign을 할 수 없다. "
   ]
  },
  {
   "cell_type": "code",
   "execution_count": null,
   "metadata": {
    "collapsed": true
   },
   "outputs": [],
   "source": []
  }
 ],
 "metadata": {
  "kernelspec": {
   "display_name": "Python 3",
   "language": "python",
   "name": "python3"
  },
  "language_info": {
   "codemirror_mode": {
    "name": "ipython",
    "version": 3
   },
   "file_extension": ".py",
   "mimetype": "text/x-python",
   "name": "python",
   "nbconvert_exporter": "python",
   "pygments_lexer": "ipython3",
   "version": "3.6.1"
  }
 },
 "nbformat": 4,
 "nbformat_minor": 2
}
